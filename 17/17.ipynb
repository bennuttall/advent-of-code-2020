{
 "cells": [
  {
   "cell_type": "code",
   "execution_count": 36,
   "metadata": {},
   "outputs": [],
   "source": [
    "import itertools\n",
    "\n",
    "class ConwayCube3D:\n",
    "    def __init__(self, input_file):\n",
    "        with open(input_file) as f:\n",
    "            rows = [row.strip() for row in f]\n",
    "        self.live_cells = set()\n",
    "        z = 0\n",
    "        for y, row in enumerate(rows):\n",
    "            for x, cell in enumerate(row):\n",
    "                if cell == '#':\n",
    "                    self.live_cells.add((x, y, z))\n",
    "        self.neighbour_deltas = set(\n",
    "            list(itertools.product([-1, 0, 1], repeat=3))\n",
    "        ) - set([(0, 0, 0)])\n",
    "                    \n",
    "    def __next__(self):\n",
    "        return iter(self)\n",
    "    \n",
    "    def __iter__(self):\n",
    "        locations = set(\n",
    "            itertools.chain.from_iterable(\n",
    "                self.get_neighbours(x, y, z)\n",
    "                for x, y, z in self.live_cells\n",
    "            )\n",
    "        )\n",
    "        self.live_cells = {\n",
    "            (x, y, z)\n",
    "            for x, y, z in locations\n",
    "            if self.evolve_cell(x, y, z)\n",
    "        }\n",
    "        return self\n",
    "        \n",
    "    def get_neighbours(self, x, y, z):\n",
    "        return {(x + dx, y + dy, z + dz) for dx, dy, dz in self.neighbour_deltas}\n",
    "        \n",
    "    def evolve_cell(self, x, y, z):\n",
    "        alive = (x, y, z) in self.live_cells\n",
    "        neighbours = self.count_neighbours(x, y, z)\n",
    "        return neighbours == 3 or (alive and neighbours == 2)\n",
    "        \n",
    "    def count_neighbours(self, x, y, z):\n",
    "        return sum([cell in self.live_cells for cell in self.get_neighbours(x, y, z)])"
   ]
  },
  {
   "cell_type": "code",
   "execution_count": 37,
   "metadata": {},
   "outputs": [
    {
     "name": "stdout",
     "output_type": "stream",
     "text": [
      "Part 1:\n",
      "267\n"
     ]
    }
   ],
   "source": [
    "cube = ConwayCube3D('input')\n",
    "for i in range(6):\n",
    "    next(cube)\n",
    "print(\"Part 1:\")\n",
    "print(len(cube.live_cells))"
   ]
  },
  {
   "cell_type": "code",
   "execution_count": 38,
   "metadata": {},
   "outputs": [],
   "source": [
    "class ConwayCube4D:\n",
    "    def __init__(self, input_file):\n",
    "        with open(input_file) as f:\n",
    "            rows = [row.strip() for row in f]\n",
    "        self.live_cells = set()\n",
    "        z = w = 0\n",
    "        for y, row in enumerate(rows):\n",
    "            for x, cell in enumerate(row):\n",
    "                if cell == '#':\n",
    "                    self.live_cells.add((x, y, z, w))\n",
    "        self.neighbour_deltas = set(\n",
    "            list(itertools.product([-1, 0, 1], repeat=4))\n",
    "        ) - set([(0, 0, 0, 0)])\n",
    "                    \n",
    "    def __next__(self):\n",
    "        return iter(self)\n",
    "    \n",
    "    def __iter__(self):\n",
    "        locations = set(\n",
    "            itertools.chain.from_iterable(\n",
    "                self.get_neighbours(x, y, z, w)\n",
    "                for x, y, z, w in self.live_cells\n",
    "            )\n",
    "        )\n",
    "        self.live_cells = {\n",
    "            (x, y, z, w)\n",
    "            for x, y, z, w in locations\n",
    "            if self.evolve_cell(x, y, z, w)\n",
    "        }\n",
    "        return self\n",
    "        \n",
    "    def get_neighbours(self, x, y, z, w):\n",
    "        return {(x + dx, y + dy, z + dz, w + dw) for dx, dy, dz, dw in self.neighbour_deltas}\n",
    "        \n",
    "    def evolve_cell(self, x, y, z, w):\n",
    "        alive = (x, y, z, w) in self.live_cells\n",
    "        neighbours = self.count_neighbours(x, y, z, w)\n",
    "        return neighbours == 3 or (alive and neighbours == 2)\n",
    "        \n",
    "    def count_neighbours(self, x, y, z, w):\n",
    "        return sum([cell in self.live_cells for cell in self.get_neighbours(x, y, z, w)])"
   ]
  },
  {
   "cell_type": "code",
   "execution_count": 39,
   "metadata": {},
   "outputs": [
    {
     "name": "stdout",
     "output_type": "stream",
     "text": [
      "Part 2:\n",
      "1812\n"
     ]
    }
   ],
   "source": [
    "cube = ConwayCube4D('input')\n",
    "for i in range(6):\n",
    "    next(cube)\n",
    "print(\"Part 2:\")\n",
    "print(len(cube.live_cells))"
   ]
  },
  {
   "cell_type": "code",
   "execution_count": null,
   "metadata": {},
   "outputs": [],
   "source": []
  }
 ],
 "metadata": {
  "kernelspec": {
   "display_name": "Python 3",
   "language": "python",
   "name": "python3"
  },
  "language_info": {
   "codemirror_mode": {
    "name": "ipython",
    "version": 3
   },
   "file_extension": ".py",
   "mimetype": "text/x-python",
   "name": "python",
   "nbconvert_exporter": "python",
   "pygments_lexer": "ipython3",
   "version": "3.8.5"
  }
 },
 "nbformat": 4,
 "nbformat_minor": 4
}
