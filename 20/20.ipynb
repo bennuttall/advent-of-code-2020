{
 "cells": [
  {
   "cell_type": "code",
   "execution_count": 1,
   "metadata": {},
   "outputs": [],
   "source": [
    "import numpy as np\n",
    "\n",
    "def process_tile(tile):\n",
    "    k, *v = tile.split('\\n')\n",
    "    return int(k[5:9]), np.array([list(row) for row in v])"
   ]
  },
  {
   "cell_type": "code",
   "execution_count": 2,
   "metadata": {},
   "outputs": [],
   "source": [
    "with open('input') as f:\n",
    "    tiles = {\n",
    "        k: {\n",
    "            'tile': v,\n",
    "            'edges': set(),\n",
    "            'neighbours': set(),\n",
    "        }\n",
    "        for k, v in [\n",
    "            process_tile(line.strip())\n",
    "            for line in f.read().split('\\n\\n')\n",
    "            if line != ''\n",
    "        ]\n",
    "    }"
   ]
  },
  {
   "cell_type": "code",
   "execution_count": 3,
   "metadata": {},
   "outputs": [],
   "source": [
    "for tile_id, tile_dict in tiles.items():\n",
    "    tile = tile_dict['tile']\n",
    "    tile_dict['edges'] = {\n",
    "        ''.join(tile[0]),\n",
    "        ''.join(tile[-1]),\n",
    "        ''.join(row[0] for row in tile),\n",
    "        ''.join(row[-1] for row in tile),\n",
    "        ''.join(tile[0])[::-1],\n",
    "        ''.join(tile[-1])[::-1],\n",
    "        ''.join(row[0] for row in tile)[::-1],\n",
    "        ''.join(row[-1] for row in tile)[::-1],\n",
    "    }"
   ]
  },
  {
   "cell_type": "code",
   "execution_count": 4,
   "metadata": {},
   "outputs": [],
   "source": [
    "import itertools\n",
    "\n",
    "for (tile_1_id, tile_1_dict), (tile_2_id, tile_2_dict) in itertools.combinations(tiles.items(), 2):\n",
    "    tile_1_edges = tile_1_dict['edges']\n",
    "    tile_2_edges = tile_2_dict['edges']\n",
    "    for edge_1, edge_2 in itertools.product(tile_1_edges, tile_2_edges):\n",
    "        if edge_1 == edge_2:\n",
    "            tile_1_dict['neighbours'].add(tile_2_id)\n",
    "            tile_2_dict['neighbours'].add(tile_1_id)\n",
    "            \n",
    "corners = {k: v for k, v in tiles.items() if len(v['neighbours']) == 2}\n",
    "edges = {k: v for k, v in tiles.items() if len(v['neighbours']) == 3}\n",
    "middles = {k: v for k, v in tiles.items() if len(v['neighbours']) == 4}"
   ]
  },
  {
   "cell_type": "code",
   "execution_count": 5,
   "metadata": {},
   "outputs": [
    {
     "name": "stdout",
     "output_type": "stream",
     "text": [
      "Part 1:\n",
      "18482479935793\n"
     ]
    }
   ],
   "source": [
    "import math\n",
    "print(\"Part 1:\")\n",
    "print(math.prod(corners))"
   ]
  },
  {
   "cell_type": "code",
   "execution_count": 6,
   "metadata": {},
   "outputs": [],
   "source": [
    "def place_tiles():\n",
    "    corner_tile_id = list(corners).pop()\n",
    "    grid = {\n",
    "        (0, 0): corner_tile_id,\n",
    "    }\n",
    "    pos = (0, 1)\n",
    "    next_tile_id = list(tiles[corner_tile_id]['neighbours'])[0]\n",
    "    grid[pos] = next_tile_id\n",
    "    \n",
    "    previous_tile_id = corner_tile_id\n",
    "    current_tile_id = next_tile_id\n",
    "    \n",
    "    deltas = ((0, 1), (1, 0), (0, -1), (-1, 0))\n",
    "    # do edges from top-left down\n",
    "    for delta in deltas:\n",
    "        while True:\n",
    "            pos = (pos[0] + delta[0], pos[1] + delta[1])\n",
    "            current_tile_neighbours = tiles[current_tile_id]['neighbours']\n",
    "            next_tile_ids = list(current_tile_neighbours - {previous_tile_id} - set(middles.keys()))\n",
    "            assert len(next_tile_ids) == 1\n",
    "            next_tile_id = next_tile_ids[0]\n",
    "            grid[pos] = next_tile_id\n",
    "            previous_tile_id = current_tile_id\n",
    "            current_tile_id = next_tile_id\n",
    "            if current_tile_id in corners:\n",
    "                break\n",
    "                \n",
    "    # fill in middles, from top left down in columns\n",
    "    for y in range(1, 11):\n",
    "        for x in range(1, 11):\n",
    "            neighbours = {grid[(x - 1, y)], grid[(x, y - 1)]}\n",
    "            tile_ids = [\n",
    "                tile_id\n",
    "                for tile_id, tile in middles.items()\n",
    "                if tile['neighbours'] >= neighbours and tile_id not in set(grid.values())\n",
    "            ]\n",
    "            tile_id = tile_ids[0]\n",
    "            grid[(x, y)] = tile_id\n",
    "    \n",
    "    return grid"
   ]
  },
  {
   "cell_type": "code",
   "execution_count": 7,
   "metadata": {
    "scrolled": true
   },
   "outputs": [
    {
     "name": "stdout",
     "output_type": "stream",
     "text": [
      "\n",
      "grid:\n",
      "\n",
      "1699 2803 1889 2297 2011 3851 1741 2467 1307 3089 1999 1433 \n",
      "3251 3727 3407 2269 3209 1913 1831 1973 1153 2797 3257 1567 \n",
      "3613 2851 1193 1657 3907 1487 3343 3637 2957 3821 1493 3217 \n",
      "3739 2239 2003 2459 2281 1277 1201 1697 2903 3733 1163 2273 \n",
      "1637 1279 2551 1291 2203 2423 2707 2693 1453 2477 3767 2767 \n",
      "2729 1409 2029 3923 2437 1811 2647 2663 1987 3347 2141 1621 \n",
      "3023 1259 3329 2237 3373 2377 1931 3049 3929 3499 1997 3863 \n",
      "3673 2927 1787 1733 3911 1301 3803 2897 2969 3001 3761 1721 \n",
      "1447 1327 1879 2383 2333 1747 2557 3449 1871 2689 3877 1873 \n",
      "1663 1123 1181 2789 2027 1373 3323 3779 2083 3769 3529 3019 \n",
      "1321 1549 2441 2687 2053 1907 1571 2801 1051 2819 2579 3719 \n",
      "3229 1399 1063 2659 3061 1097 2243 1667 1091 3547 1609 2351 \n"
     ]
    }
   ],
   "source": [
    "grid = place_tiles()\n",
    "print()\n",
    "print(\"grid:\")\n",
    "print()\n",
    "for y in range(12):\n",
    "    for x in range(12):\n",
    "        if (x, y) in grid:\n",
    "            print(grid[(x, y)], end=' ')\n",
    "        else:\n",
    "            print('    ', end=' ')\n",
    "    print()"
   ]
  },
  {
   "cell_type": "code",
   "execution_count": 8,
   "metadata": {},
   "outputs": [],
   "source": [
    "def rotate_tile_to_match_below(x, y):\n",
    "    this_tile = tiles[grid[(x, y)]]\n",
    "    tile_below = tiles[grid[(x, y + 1)]]\n",
    "    matching_edges = this_tile['edges'] & tile_below['edges']\n",
    "    for i in range(4):\n",
    "        bottom_edge = ''.join(this_tile['tile'][-1])\n",
    "        if bottom_edge in matching_edges:\n",
    "            return\n",
    "        this_tile['tile'] = np.rot90(this_tile['tile'])"
   ]
  },
  {
   "cell_type": "code",
   "execution_count": 9,
   "metadata": {},
   "outputs": [],
   "source": [
    "def flip_tile_to_align_left(x, y):\n",
    "    this_tile = tiles[grid[(x, y)]]\n",
    "    left_tile = tiles[grid[(x - 1, y)]]\n",
    "    left_tile_right_edge = ''.join(row[-1] for row in left_tile['tile'])\n",
    "    this_tile_left_edge = ''.join(row[0] for row in this_tile['tile'])\n",
    "    if this_tile_left_edge != left_tile_right_edge:\n",
    "        this_tile['tile'] = np.fliplr(this_tile['tile'])"
   ]
  },
  {
   "cell_type": "code",
   "execution_count": 10,
   "metadata": {},
   "outputs": [],
   "source": [
    "def rotate_tile_to_match_above(x, y):\n",
    "    this_tile = tiles[grid[(x, y)]]\n",
    "    tile_above = tiles[grid[(x, y - 1)]]\n",
    "    matching_edges = this_tile['edges'] & tile_above['edges']\n",
    "    for i in range(4):\n",
    "        top_edge = ''.join(this_tile['tile'][0])\n",
    "        if top_edge in matching_edges:\n",
    "            return\n",
    "        this_tile['tile'] = np.rot90(this_tile['tile'])\n",
    "    raise ValueError(f'rotate_tile_to_match_above: {x}, {y}')"
   ]
  },
  {
   "cell_type": "code",
   "execution_count": 11,
   "metadata": {},
   "outputs": [],
   "source": [
    "def flip_tile_to_align_above(x, y):\n",
    "    this_tile = tiles[grid[(x, y)]]\n",
    "    tile_above = tiles[grid[(x, y - 1)]]\n",
    "    above_bottom_edge = ''.join(tile_above['tile'][-1])\n",
    "    this_top_edge = ''.join(this_tile['tile'][0])\n",
    "    if this_top_edge != above_bottom_edge:\n",
    "        this_tile['tile'] = np.fliplr(this_tile['tile'])"
   ]
  },
  {
   "cell_type": "code",
   "execution_count": 12,
   "metadata": {},
   "outputs": [],
   "source": [
    "def assemble_image():\n",
    "    x, y = (0, 0)\n",
    "    # make sure (0,0) has its common edge facing downwards\n",
    "    rotate_tile_to_match_below(x, y)\n",
    "    # rotate and flip each following tile on the top row\n",
    "    for x in range(1, 12):\n",
    "        rotate_tile_to_match_below(x, y)\n",
    "        flip_tile_to_align_left(x, y)\n",
    "    # rotate and flip all remaining tiles to match the tile above them\n",
    "    for y in range(1, 12):\n",
    "        for x in range(12):\n",
    "            rotate_tile_to_match_above(x, y)\n",
    "            flip_tile_to_align_above(x, y)"
   ]
  },
  {
   "cell_type": "code",
   "execution_count": 13,
   "metadata": {},
   "outputs": [],
   "source": [
    "def print_grid():\n",
    "    for y in range(12):\n",
    "        print(y)\n",
    "        for row in range(10):\n",
    "            for x in range(10):\n",
    "                print(''.join(tiles[grid[(x, y)]]['tile'][row]).replace('#', str(x)), end=' ')\n",
    "            print()\n",
    "        print()"
   ]
  },
  {
   "cell_type": "code",
   "execution_count": 14,
   "metadata": {},
   "outputs": [],
   "source": [
    "assemble_image()"
   ]
  },
  {
   "cell_type": "code",
   "execution_count": 15,
   "metadata": {},
   "outputs": [],
   "source": [
    "image = np.empty((120, 120), dtype=str)\n",
    "for pos, tile_id in grid.items():\n",
    "    x, y = pos\n",
    "    x0 = 8 * x\n",
    "    y0 = 8 * y\n",
    "    x1 = 8 * (x + 1)\n",
    "    y1 = 8 * (y + 1)\n",
    "    image[y0:y1, x0:x1] = tiles[tile_id]['tile'][1:-1,1:-1]"
   ]
  },
  {
   "cell_type": "code",
   "execution_count": 16,
   "metadata": {},
   "outputs": [],
   "source": [
    "sea_monster = set()\n",
    "sea_monster |= {(0, i) for i, c in enumerate('                  # ') if c == '#'}\n",
    "sea_monster |= {(1, i) for i, c in enumerate('#    ##    ##    ###') if c == '#'}\n",
    "sea_monster |= {(2, i) for i, c in enumerate(' #  #  #  #  #  #   ') if c == '#'}"
   ]
  },
  {
   "cell_type": "code",
   "execution_count": 17,
   "metadata": {},
   "outputs": [],
   "source": [
    "def matches_sea_monster(x, y):\n",
    "    return all(image[y + smy, x + smx] == '#' for smy, smx in sea_monster)"
   ]
  },
  {
   "cell_type": "code",
   "execution_count": 18,
   "metadata": {},
   "outputs": [],
   "source": [
    "sea_monster_width = 20\n",
    "sea_monster_height = 3\n",
    "sea_monster_positions = set()\n",
    "\n",
    "for i in range(2):\n",
    "    for j in range(4):\n",
    "        for x in range(image.shape[1] - sea_monster_width):\n",
    "            for y in range(image.shape[0] - sea_monster_height):\n",
    "                if matches_sea_monster(x, y):\n",
    "                    for row in image[y:y+3,x:x+20]:\n",
    "                        sea_monster_positions.add((x, y, i, j))\n",
    "        image = np.rot90(image)\n",
    "    image = np.fliplr(image)"
   ]
  },
  {
   "cell_type": "code",
   "execution_count": 19,
   "metadata": {},
   "outputs": [],
   "source": [
    "for i in range(2):\n",
    "    for j in range(4):\n",
    "        for x in range(image.shape[1] - sea_monster_width):\n",
    "            for y in range(image.shape[0] - sea_monster_height):\n",
    "                if (x, y, i, j) in sea_monster_positions:\n",
    "                    for smy, smx in sea_monster:\n",
    "                        image[y + smy, x + smx] = 'O'\n",
    "        image = np.rot90(image)\n",
    "    image = np.fliplr(image)"
   ]
  },
  {
   "cell_type": "code",
   "execution_count": 20,
   "metadata": {},
   "outputs": [
    {
     "name": "stdout",
     "output_type": "stream",
     "text": [
      "Part 2:\n",
      "2118\n"
     ]
    }
   ],
   "source": [
    "print(\"Part 2:\")\n",
    "print(sum(''.join(row).count('#') for row in image))"
   ]
  },
  {
   "cell_type": "code",
   "execution_count": null,
   "metadata": {},
   "outputs": [],
   "source": []
  }
 ],
 "metadata": {
  "kernelspec": {
   "display_name": "Python 3",
   "language": "python",
   "name": "python3"
  },
  "language_info": {
   "codemirror_mode": {
    "name": "ipython",
    "version": 3
   },
   "file_extension": ".py",
   "mimetype": "text/x-python",
   "name": "python",
   "nbconvert_exporter": "python",
   "pygments_lexer": "ipython3",
   "version": "3.8.5"
  }
 },
 "nbformat": 4,
 "nbformat_minor": 4
}
