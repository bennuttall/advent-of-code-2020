{
 "cells": [
  {
   "cell_type": "code",
   "execution_count": 1,
   "metadata": {},
   "outputs": [],
   "source": [
    "player_1 = [26, 8, 2, 17, 19, 29, 41, 7, 25, 33, 50, 16, 36, 37, 32, 4, 46, 12, 21, 48, 11, 6, 13, 23, 9]\n",
    "player_2 = [27, 47, 15, 45, 10, 14, 3, 44, 31, 39, 42, 5, 49, 24, 22, 20, 30, 1, 35, 38, 18, 43, 28, 40, 34]"
   ]
  },
  {
   "cell_type": "code",
   "execution_count": 2,
   "metadata": {},
   "outputs": [],
   "source": [
    "def play_combat(player_1, player_2):\n",
    "    player_1 = player_1.copy()\n",
    "    player_2 = player_2.copy()\n",
    "    i = 1\n",
    "    while len(player_1) > 0 and len(player_2) > 0:\n",
    "        card_1 = player_1.pop(0)\n",
    "        card_2 = player_2.pop(0)\n",
    "        if card_1 > card_2:\n",
    "            cards = [card_1, card_2]\n",
    "            player_1.extend(cards)\n",
    "        else:\n",
    "            cards = [card_2, card_1]\n",
    "            player_2.extend(cards)\n",
    "        i += 1\n",
    "\n",
    "    score = 0\n",
    "    if len(player_1) > 0:\n",
    "        for i, card in enumerate(reversed(player_1), start=1):\n",
    "            score += card * i\n",
    "            winner = 1\n",
    "    else:\n",
    "        for i, card in enumerate(reversed(player_2), start=1):\n",
    "            score += card * i\n",
    "            winner = 2\n",
    "    return winner, score"
   ]
  },
  {
   "cell_type": "code",
   "execution_count": 3,
   "metadata": {},
   "outputs": [
    {
     "name": "stdout",
     "output_type": "stream",
     "text": [
      "Part 1:\n",
      "32472\n"
     ]
    }
   ],
   "source": [
    "winner, score = play_combat(player_1, player_2)\n",
    "print(\"Part 1:\")\n",
    "print(score)"
   ]
  },
  {
   "cell_type": "code",
   "execution_count": 17,
   "metadata": {},
   "outputs": [],
   "source": [
    "def play_recursive_combat(player_1, player_2):\n",
    "    player_1 = player_1.copy()\n",
    "    player_2 = player_2.copy()\n",
    "    i = 1\n",
    "    cache = []\n",
    "    while len(player_1) > 0 and len(player_2) > 0:\n",
    "        this_round = (player_1, player_2)\n",
    "        if this_round in cache:\n",
    "            winner = 1\n",
    "            break\n",
    "        cache.append(this_round)\n",
    "        \n",
    "        card_1 = player_1.pop(0)\n",
    "        card_2 = player_2.pop(0)\n",
    "        if len(player_1) >= card_1 and len(player_2) >= card_2:\n",
    "            winner, score = play_recursive_combat(player_1[:card_1], player_2[:card_2])\n",
    "        else:\n",
    "            winner = 1 if card_1 > card_2 else 2\n",
    "            \n",
    "        if winner == 1:\n",
    "            cards = [card_1, card_2]\n",
    "            player_1.extend(cards)\n",
    "        else:\n",
    "            cards = [card_2, card_1]\n",
    "            player_2.extend(cards)\n",
    "        i += 1\n",
    "\n",
    "    score = 0\n",
    "    if len(player_1) > 0:\n",
    "        for i, card in enumerate(reversed(player_1), start=1):\n",
    "            score += card * i\n",
    "            winner = 1\n",
    "    else:\n",
    "        for i, card in enumerate(reversed(player_2), start=1):\n",
    "            score += card * i\n",
    "            winner = 2\n",
    "    return winner, score"
   ]
  },
  {
   "cell_type": "code",
   "execution_count": 18,
   "metadata": {},
   "outputs": [
    {
     "name": "stdout",
     "output_type": "stream",
     "text": [
      "Part 2:\n",
      "6845\n",
      "0:00:00.000393\n"
     ]
    }
   ],
   "source": [
    "from datetime import datetime\n",
    "start = datetime.now()\n",
    "winner, score = play_recursive_combat(player_1, player_2)\n",
    "print(\"Part 2:\")\n",
    "print(score)\n",
    "print(datetime.now() - start)"
   ]
  },
  {
   "cell_type": "code",
   "execution_count": null,
   "metadata": {},
   "outputs": [],
   "source": []
  }
 ],
 "metadata": {
  "kernelspec": {
   "display_name": "Python 3",
   "language": "python",
   "name": "python3"
  },
  "language_info": {
   "codemirror_mode": {
    "name": "ipython",
    "version": 3
   },
   "file_extension": ".py",
   "mimetype": "text/x-python",
   "name": "python",
   "nbconvert_exporter": "python",
   "pygments_lexer": "ipython3",
   "version": "3.8.5"
  }
 },
 "nbformat": 4,
 "nbformat_minor": 4
}
