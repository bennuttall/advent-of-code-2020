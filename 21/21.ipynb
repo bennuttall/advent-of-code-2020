{
 "cells": [
  {
   "cell_type": "code",
   "execution_count": 1,
   "metadata": {},
   "outputs": [],
   "source": [
    "def process_ingredient(line):\n",
    "    ingredients, allergens = line.split(' (contains ')\n",
    "    return (tuple(ingredients.split()), set(allergens.replace(')', '').split(', ')))"
   ]
  },
  {
   "cell_type": "code",
   "execution_count": 2,
   "metadata": {},
   "outputs": [],
   "source": [
    "with open('input') as f:\n",
    "    ingredient_allergens = {\n",
    "        ingredients: allergens\n",
    "        for ingredients, allergens in [process_ingredient(line.strip()) for line in f]\n",
    "    }"
   ]
  },
  {
   "cell_type": "code",
   "execution_count": 3,
   "metadata": {},
   "outputs": [],
   "source": [
    "allergens = {}\n",
    "for i, aa in ingredient_allergens.items():\n",
    "    for a in aa:\n",
    "        if a in allergens:\n",
    "            allergens[a] &= set(i)\n",
    "        else:\n",
    "            allergens[a] = set(i)\n",
    "\n",
    "allergen_ingredients = set()\n",
    "for a in allergens.values():\n",
    "    allergen_ingredients |= a"
   ]
  },
  {
   "cell_type": "code",
   "execution_count": 4,
   "metadata": {},
   "outputs": [],
   "source": [
    "all_ingredients = set()\n",
    "for i in ingredient_allergens.keys():\n",
    "    all_ingredients |= set(i)"
   ]
  },
  {
   "cell_type": "code",
   "execution_count": 5,
   "metadata": {},
   "outputs": [],
   "source": [
    "safe_ingredients = all_ingredients - allergen_ingredients"
   ]
  },
  {
   "cell_type": "code",
   "execution_count": 6,
   "metadata": {},
   "outputs": [],
   "source": [
    "c = 0\n",
    "for ii, a in ingredient_allergens.items():\n",
    "    for i in ii:\n",
    "        if i in safe_ingredients:\n",
    "            c += 1"
   ]
  },
  {
   "cell_type": "code",
   "execution_count": 7,
   "metadata": {},
   "outputs": [
    {
     "name": "stdout",
     "output_type": "stream",
     "text": [
      "Part 1:\n",
      "1679\n"
     ]
    }
   ],
   "source": [
    "print(\"Part 1:\")\n",
    "print(c)"
   ]
  },
  {
   "cell_type": "code",
   "execution_count": 8,
   "metadata": {},
   "outputs": [],
   "source": [
    "ingredient_allergens = {\n",
    "    tuple(set(i) - safe_ingredients): a\n",
    "    for i, a in ingredient_allergens.items()\n",
    "}"
   ]
  },
  {
   "cell_type": "code",
   "execution_count": 9,
   "metadata": {},
   "outputs": [],
   "source": [
    "dangerous_ingredients = {a: None for a in allergens}\n",
    "while None in dangerous_ingredients.values():\n",
    "    for a in allergens:\n",
    "        ii = allergens[a]\n",
    "        for i in dangerous_ingredients.values():\n",
    "            if i in ii:\n",
    "                allergens[a] -= {i}\n",
    "        if len(ii) == 1:\n",
    "            dangerous_ingredients[a] = list(ii)[0]"
   ]
  },
  {
   "cell_type": "code",
   "execution_count": 10,
   "metadata": {},
   "outputs": [
    {
     "name": "stdout",
     "output_type": "stream",
     "text": [
      "Part 2:\n",
      "lmxt,rggkbpj,mxf,gpxmf,nmtzlj,dlkxsxg,fvqg,dxzq\n"
     ]
    }
   ],
   "source": [
    "print(\"Part 2:\")\n",
    "print(','.join([dangerous_ingredients[a] for a in sorted(dangerous_ingredients.keys())]))"
   ]
  },
  {
   "cell_type": "code",
   "execution_count": null,
   "metadata": {},
   "outputs": [],
   "source": []
  }
 ],
 "metadata": {
  "kernelspec": {
   "display_name": "Python 3",
   "language": "python",
   "name": "python3"
  },
  "language_info": {
   "codemirror_mode": {
    "name": "ipython",
    "version": 3
   },
   "file_extension": ".py",
   "mimetype": "text/x-python",
   "name": "python",
   "nbconvert_exporter": "python",
   "pygments_lexer": "ipython3",
   "version": "3.8.5"
  }
 },
 "nbformat": 4,
 "nbformat_minor": 4
}
