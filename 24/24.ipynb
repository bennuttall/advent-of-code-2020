{
 "cells": [
  {
   "cell_type": "code",
   "execution_count": 1,
   "metadata": {},
   "outputs": [],
   "source": [
    "with open('input') as f:\n",
    "    instructions = [line.strip() for line in f]"
   ]
  },
  {
   "cell_type": "code",
   "execution_count": 2,
   "metadata": {},
   "outputs": [],
   "source": [
    "from itertools import tee\n",
    "\n",
    "def pairwise(iterable):\n",
    "    \"s -> (s0,s1), (s1,s2), (s2, s3), ...\"\n",
    "    a, b = tee(iterable)\n",
    "    next(b, None)\n",
    "    return zip(a, b)"
   ]
  },
  {
   "cell_type": "code",
   "execution_count": 3,
   "metadata": {},
   "outputs": [],
   "source": [
    "directions = {\n",
    "    'e': (2, 0),\n",
    "    'se': (1, -2),\n",
    "    'sw': (-1, -2),\n",
    "    'w': (-2, 0),\n",
    "    'nw': (-1, 2),\n",
    "    'ne': (1, 2),\n",
    "}\n",
    "\n",
    "def flip_tile(instruction, black_tiles):\n",
    "    pos = (0, 0)\n",
    "    skip_next = False\n",
    "    for a, b in pairwise(instruction + ' '):\n",
    "        if skip_next:\n",
    "            skip_next = False\n",
    "            continue\n",
    "        x, y = pos\n",
    "        if a + b in directions:\n",
    "            dx, dy = directions[a + b]\n",
    "            pos = (x + dx, y + dy)\n",
    "            skip_next = True\n",
    "        else:\n",
    "            dx, dy = directions[a]\n",
    "            pos = (x + dx, y + dy)\n",
    "            skip_next = False\n",
    "    if pos in black_tiles:\n",
    "        black_tiles -= {pos}\n",
    "    else:\n",
    "        black_tiles |= {pos}\n",
    "    return black_tiles"
   ]
  },
  {
   "cell_type": "code",
   "execution_count": 4,
   "metadata": {},
   "outputs": [
    {
     "name": "stdout",
     "output_type": "stream",
     "text": [
      "Part 1:\n",
      "538\n"
     ]
    }
   ],
   "source": [
    "black_tiles = set()\n",
    "for instruction in instructions:\n",
    "    black_tiles = flip_tile(instruction, black_tiles)\n",
    "    \n",
    "print(\"Part 1:\")\n",
    "print(len(black_tiles))"
   ]
  },
  {
   "cell_type": "code",
   "execution_count": 5,
   "metadata": {},
   "outputs": [],
   "source": [
    "def count_neighbours(x, y):\n",
    "    return sum((x + dx, y + dy) in black_tiles for (dx, dy) in directions.values())"
   ]
  },
  {
   "cell_type": "code",
   "execution_count": 6,
   "metadata": {},
   "outputs": [],
   "source": [
    "def evolve_tile(x, y):\n",
    "    is_black = (x, y) in black_tiles\n",
    "    neighbours = count_neighbours(x, y)\n",
    "    return neighbours == 2 or (is_black and neighbours == 1)"
   ]
  },
  {
   "cell_type": "code",
   "execution_count": 7,
   "metadata": {},
   "outputs": [],
   "source": [
    "def evolve_tiles():\n",
    "    tiles = set()\n",
    "    for (x, y) in black_tiles:\n",
    "        tiles |= {(x + dx, y + dy) for (dx, dy) in directions.values()}\n",
    "    return {(x, y) for x, y in tiles if evolve_tile(x, y)}"
   ]
  },
  {
   "cell_type": "code",
   "execution_count": 8,
   "metadata": {},
   "outputs": [
    {
     "name": "stdout",
     "output_type": "stream",
     "text": [
      "Part 2:\n",
      "4259\n"
     ]
    }
   ],
   "source": [
    "for i in range(100):\n",
    "    black_tiles = evolve_tiles()\n",
    "print(\"Part 2:\")\n",
    "print(len(black_tiles))"
   ]
  }
 ],
 "metadata": {
  "kernelspec": {
   "display_name": "Python 3",
   "language": "python",
   "name": "python3"
  },
  "language_info": {
   "codemirror_mode": {
    "name": "ipython",
    "version": 3
   },
   "file_extension": ".py",
   "mimetype": "text/x-python",
   "name": "python",
   "nbconvert_exporter": "python",
   "pygments_lexer": "ipython3",
   "version": "3.8.5"
  }
 },
 "nbformat": 4,
 "nbformat_minor": 4
}
