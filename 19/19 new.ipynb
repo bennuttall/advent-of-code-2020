{
 "cells": [
  {
   "cell_type": "code",
   "execution_count": 54,
   "metadata": {},
   "outputs": [],
   "source": [
    "def process_rules(rules):\n",
    "    return {\n",
    "        int(k): v.replace('\"', '') if '\"' in v else [\n",
    "            tuple(int(o) for o in options.split()) \n",
    "            for options in v.split(' | ')\n",
    "        ]\n",
    "        for k, v in [rule.split(': ') for rule in rules]\n",
    "    }"
   ]
  },
  {
   "cell_type": "code",
   "execution_count": 57,
   "metadata": {},
   "outputs": [
    {
     "data": {
      "text/plain": [
       "[(8, 11)]"
      ]
     },
     "execution_count": 57,
     "metadata": {},
     "output_type": "execute_result"
    }
   ],
   "source": [
    "with open('input') as f:\n",
    "    rules, messages = [line.strip().split('\\n') for line in f.read().split('\\n\\n')]\n",
    "\n",
    "rules = process_rules(rules)\n",
    "rules[0]"
   ]
  },
  {
   "cell_type": "code",
   "execution_count": 52,
   "metadata": {},
   "outputs": [],
   "source": [
    "def match(s, rules, stack=None):\n",
    "    if stack is None:\n",
    "        stack = [0]\n",
    "    while stack:\n",
    "        state = rules[stack.pop()]\n",
    "        #print(repr(s), repr(state), repr(stack[::-1]))\n",
    "        if isinstance(state, tuple):\n",
    "            stack += list(state[::-1])\n",
    "        elif isinstance(state, list):\n",
    "            for branch in state:\n",
    "                if match(s, rules, stack + list(branch[::-1])):\n",
    "                    return True\n",
    "            return False\n",
    "        elif isinstance(state, str):\n",
    "            if state == s[0]:\n",
    "                s = s[1:]\n",
    "            else:\n",
    "                return False\n",
    "        else:\n",
    "            assert False\n",
    "    return s == ''"
   ]
  },
  {
   "cell_type": "code",
   "execution_count": 53,
   "metadata": {},
   "outputs": [
    {
     "data": {
      "text/plain": [
       "'babbbabababbababbabbabba'"
      ]
     },
     "execution_count": 53,
     "metadata": {},
     "output_type": "execute_result"
    }
   ],
   "source": [
    "messages[0]"
   ]
  },
  {
   "cell_type": "code",
   "execution_count": null,
   "metadata": {},
   "outputs": [],
   "source": [
    "8: 42 | 42 8\n",
    "11: 42 31 | 42 11 31"
   ]
  }
 ],
 "metadata": {
  "kernelspec": {
   "display_name": "Python 3",
   "language": "python",
   "name": "python3"
  },
  "language_info": {
   "codemirror_mode": {
    "name": "ipython",
    "version": 3
   },
   "file_extension": ".py",
   "mimetype": "text/x-python",
   "name": "python",
   "nbconvert_exporter": "python",
   "pygments_lexer": "ipython3",
   "version": "3.8.5"
  }
 },
 "nbformat": 4,
 "nbformat_minor": 4
}
