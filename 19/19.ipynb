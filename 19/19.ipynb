{
 "cells": [
  {
   "cell_type": "code",
   "execution_count": 1,
   "metadata": {},
   "outputs": [],
   "source": [
    "def process_rules(rules):\n",
    "    return {\n",
    "        int(k): v.replace('\"', '') if '\"' in v else [\n",
    "            tuple(int(o) for o in options.split()) \n",
    "            for options in v.split(' | ')\n",
    "        ]\n",
    "        for k, v in [rule.split(': ') for rule in rules]\n",
    "    }"
   ]
  },
  {
   "cell_type": "code",
   "execution_count": 2,
   "metadata": {},
   "outputs": [],
   "source": [
    "with open('input') as f:\n",
    "    rules, messages = [line.strip().split('\\n') for line in f.read().split('\\n\\n')]\n",
    "\n",
    "rules = process_rules(rules)"
   ]
  },
  {
   "cell_type": "code",
   "execution_count": 3,
   "metadata": {},
   "outputs": [],
   "source": [
    "def collate(x):\n",
    "    if all(type(i) == str for i in x):\n",
    "        return ''.join(x)\n",
    "    return tuple(x)"
   ]
  },
  {
   "cell_type": "code",
   "execution_count": 4,
   "metadata": {},
   "outputs": [],
   "source": [
    "def traverse_rules(n):\n",
    "    rule = rules[n]\n",
    "    if type(rule) == str:\n",
    "        return rule\n",
    "    r = [collate([traverse_rules(n) for n in subrule]) for subrule in rule]\n",
    "    return r[0] if len(r) == 1 else r\n",
    "\n",
    "d = {\n",
    "    n: traverse_rules(n)\n",
    "    for n in rules\n",
    "}"
   ]
  },
  {
   "cell_type": "code",
   "execution_count": 5,
   "metadata": {},
   "outputs": [],
   "source": [
    "def match(s, rules, stack=None):\n",
    "    if stack is None:\n",
    "        stack = [0]\n",
    "    while stack:\n",
    "        state = rules[stack.pop()]\n",
    "        if isinstance(state, tuple):\n",
    "            stack += list(state[::-1])\n",
    "        elif isinstance(state, list):\n",
    "            for branch in state:\n",
    "                if match(s, rules, stack + list(branch[::-1])):\n",
    "                    return True\n",
    "            return False\n",
    "        elif isinstance(state, str):\n",
    "            if state == s[:1]:\n",
    "                s = s[1:]\n",
    "            else:\n",
    "                return False\n",
    "        else:\n",
    "            assert False\n",
    "    return s == ''"
   ]
  },
  {
   "cell_type": "code",
   "execution_count": 6,
   "metadata": {},
   "outputs": [
    {
     "name": "stdout",
     "output_type": "stream",
     "text": [
      "Part 1:\n",
      "269\n"
     ]
    }
   ],
   "source": [
    "print(\"Part 1:\")\n",
    "print(sum(match(m, rules) for m in messages))"
   ]
  },
  {
   "cell_type": "code",
   "execution_count": 7,
   "metadata": {},
   "outputs": [],
   "source": [
    "rules[8] = [(42,), (42, 8)]\n",
    "rules[11] = [(42, 31), (42, 11, 31)]"
   ]
  },
  {
   "cell_type": "code",
   "execution_count": 8,
   "metadata": {},
   "outputs": [
    {
     "name": "stdout",
     "output_type": "stream",
     "text": [
      "Part 1:\n",
      "403\n"
     ]
    }
   ],
   "source": [
    "print(\"Part 1:\")\n",
    "print(sum(match(m, rules) for m in messages))"
   ]
  },
  {
   "cell_type": "code",
   "execution_count": null,
   "metadata": {},
   "outputs": [],
   "source": []
  }
 ],
 "metadata": {
  "kernelspec": {
   "display_name": "Python 3",
   "language": "python",
   "name": "python3"
  },
  "language_info": {
   "codemirror_mode": {
    "name": "ipython",
    "version": 3
   },
   "file_extension": ".py",
   "mimetype": "text/x-python",
   "name": "python",
   "nbconvert_exporter": "python",
   "pygments_lexer": "ipython3",
   "version": "3.8.5"
  }
 },
 "nbformat": 4,
 "nbformat_minor": 4
}
