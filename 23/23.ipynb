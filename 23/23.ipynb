{
 "cells": [
  {
   "cell_type": "code",
   "execution_count": null,
   "metadata": {},
   "outputs": [],
   "source": [
    "from collections import deque\n",
    "\n",
    "puzzle_input = '137826495'\n",
    "start = [int(i) for i in puzzle_input]\n",
    "\n",
    "cups = deque(start, maxlen=len(start))\n",
    "cups.rotate(-1)"
   ]
  },
  {
   "cell_type": "code",
   "execution_count": null,
   "metadata": {},
   "outputs": [],
   "source": [
    "def play_round():\n",
    "    current_cup = cups.pop()\n",
    "    pickup_cups = [cups.popleft() for i in range(3)]\n",
    "    cups.appendleft(current_cup)\n",
    "    destination_cup = current_cup - 1\n",
    "    while True:\n",
    "        if destination_cup == 0:\n",
    "            destination_cup = max(cups)\n",
    "        if destination_cup in pickup_cups:\n",
    "            destination_cup -= 1\n",
    "        else:\n",
    "            break\n",
    "    i = cups.index(destination_cup)\n",
    "    cups.rotate(-i-1)\n",
    "    cups.extendleft(pickup_cups[::-1])\n",
    "    i = cups.index(current_cup)\n",
    "    cups.rotate(7-i)"
   ]
  },
  {
   "cell_type": "code",
   "execution_count": null,
   "metadata": {},
   "outputs": [],
   "source": [
    "for i in range(100):\n",
    "    play_round()\n",
    "    \n",
    "i = cups.index(1)\n",
    "cups.rotate(-i)\n",
    "print(\"Part 1:\")\n",
    "print(''.join(str(c) for c in list(cups)[1:]))"
   ]
  },
  {
   "cell_type": "code",
   "execution_count": 88,
   "metadata": {},
   "outputs": [],
   "source": [
    "cups = {k: k + 1 for k in range(1, 1_000_000)}\n",
    "start = {\n",
    "    1: 3,\n",
    "    3: 7,\n",
    "    7: 8,\n",
    "    8: 2,\n",
    "    2: 6,\n",
    "    6: 4,\n",
    "    4: 9,\n",
    "    9: 5,\n",
    "    5: 10,\n",
    "    1_000_000: 1,\n",
    "}\n",
    "cups.update(start)"
   ]
  },
  {
   "cell_type": "code",
   "execution_count": 89,
   "metadata": {},
   "outputs": [],
   "source": [
    "def play_round_2(current_cup):\n",
    "    pickup_cups = []\n",
    "    cup = cups[current_cup]\n",
    "    for i in range(3):\n",
    "        pickup_cups.append(cup)\n",
    "        cup = cups[cup]\n",
    "        \n",
    "    destination_cup = current_cup - 1\n",
    "    while True:\n",
    "        if destination_cup == 0:\n",
    "            destination_cup = limit\n",
    "        if destination_cup in pickup_cups:\n",
    "            destination_cup -= 1\n",
    "        else:\n",
    "            break\n",
    "            \n",
    "    cups[current_cup] = cups[pickup_cups[-1]]\n",
    "    cups[pickup_cups[-1]] = cups[destination_cup]\n",
    "    cups[destination_cup] = pickup_cups[0]\n",
    "    next_cup = cups[current_cup]\n",
    "    return next_cup"
   ]
  },
  {
   "cell_type": "code",
   "execution_count": 90,
   "metadata": {},
   "outputs": [
    {
     "name": "stdout",
     "output_type": "stream",
     "text": [
      "Part 2:\n",
      "66878091588\n"
     ]
    }
   ],
   "source": [
    "limit = 1_000_000\n",
    "current_cup = 1\n",
    "\n",
    "for i in range(10_000_000):\n",
    "    current_cup = play_round_2(current_cup)\n",
    "    \n",
    "print(\"Part 2:\")\n",
    "cup = cups[1]\n",
    "print(cup * cups[cup])"
   ]
  }
 ],
 "metadata": {
  "kernelspec": {
   "display_name": "Python 3",
   "language": "python",
   "name": "python3"
  },
  "language_info": {
   "codemirror_mode": {
    "name": "ipython",
    "version": 3
   },
   "file_extension": ".py",
   "mimetype": "text/x-python",
   "name": "python",
   "nbconvert_exporter": "python",
   "pygments_lexer": "ipython3",
   "version": "3.8.5"
  }
 },
 "nbformat": 4,
 "nbformat_minor": 4
}
