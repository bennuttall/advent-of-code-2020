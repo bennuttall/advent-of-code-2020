{
 "cells": [
  {
   "cell_type": "code",
   "execution_count": 1,
   "metadata": {},
   "outputs": [],
   "source": [
    "with open('input') as f:\n",
    "    expressions = [list(line.strip().replace(' ', '')) for line in f]"
   ]
  },
  {
   "cell_type": "code",
   "execution_count": 2,
   "metadata": {},
   "outputs": [],
   "source": [
    "def eval_expression(a, op, b):\n",
    "    a = int(a)\n",
    "    b = int(b)\n",
    "    return {\n",
    "        '+': a + b,\n",
    "        '*': a * b,\n",
    "    }[op]"
   ]
  },
  {
   "cell_type": "code",
   "execution_count": 3,
   "metadata": {},
   "outputs": [],
   "source": [
    "def find_matching_brackets(expr):\n",
    "    open_bracket = expr.index('(')\n",
    "    inner_expr_start = open_bracket + 1\n",
    "    open = 1\n",
    "    for i, char in enumerate(expr[inner_expr_start:], start=inner_expr_start):\n",
    "        if char == '(':\n",
    "            open += 1\n",
    "        elif char == ')':\n",
    "            open -= 1\n",
    "        if open == 0:\n",
    "            inner_expr_end = i\n",
    "            return inner_expr_start, inner_expr_end"
   ]
  },
  {
   "cell_type": "code",
   "execution_count": 4,
   "metadata": {},
   "outputs": [],
   "source": [
    "import math\n",
    "\n",
    "def eval_expression_2(expr):\n",
    "    if '+' in expr:\n",
    "        add_pos = expr.index('+')\n",
    "        a_pos = add_pos - 1\n",
    "        b_pos = add_pos + 1\n",
    "        ab = int(expr[a_pos]) + int(expr[b_pos])\n",
    "        expr = expr[:a_pos] + [str(ab)] + expr[b_pos + 1:]\n",
    "        return eval_expression_2(expr)\n",
    "    return math.prod(int(i) for i in expr if i != '*')"
   ]
  },
  {
   "cell_type": "code",
   "execution_count": 5,
   "metadata": {},
   "outputs": [],
   "source": [
    "def do_expression(expr):\n",
    "    if len(expr) == 1:\n",
    "        return int(expr[0])\n",
    "    if '(' in expr:\n",
    "        inner_expr_start, inner_expr_end = find_matching_brackets(expr)\n",
    "        bracket_expr = expr[inner_expr_start:inner_expr_end]\n",
    "        expr = expr[:inner_expr_start -1] + [str(do_expression(bracket_expr))] + expr[inner_expr_end + 1:]\n",
    "        return do_expression(expr)\n",
    "    ans = eval_expression(*expr[:3])\n",
    "    return do_expression([str(ans)] + expr[3:])"
   ]
  },
  {
   "cell_type": "code",
   "execution_count": 6,
   "metadata": {},
   "outputs": [
    {
     "name": "stdout",
     "output_type": "stream",
     "text": [
      "Part 1:\n",
      "800602729153\n"
     ]
    }
   ],
   "source": [
    "print(\"Part 1:\")\n",
    "print(sum(do_expression(e) for e in expressions))"
   ]
  },
  {
   "cell_type": "code",
   "execution_count": 7,
   "metadata": {},
   "outputs": [],
   "source": [
    "def do_expression_2(expr):\n",
    "    if '(' in expr:\n",
    "        inner_expr_start, inner_expr_end = find_matching_brackets(expr)\n",
    "        bracket_expr = expr[inner_expr_start:inner_expr_end]\n",
    "        expr = expr[:inner_expr_start -1] + [str(do_expression_2(bracket_expr))] + expr[inner_expr_end + 1:]\n",
    "        return do_expression_2(expr)\n",
    "    return eval_expression_2(expr)"
   ]
  },
  {
   "cell_type": "code",
   "execution_count": 8,
   "metadata": {},
   "outputs": [
    {
     "name": "stdout",
     "output_type": "stream",
     "text": [
      "Part 2:\n",
      "92173009047076\n"
     ]
    }
   ],
   "source": [
    "print(\"Part 2:\")\n",
    "print(sum(do_expression_2(e) for e in expressions))"
   ]
  },
  {
   "cell_type": "code",
   "execution_count": null,
   "metadata": {},
   "outputs": [],
   "source": []
  }
 ],
 "metadata": {
  "kernelspec": {
   "display_name": "Python 3",
   "language": "python",
   "name": "python3"
  },
  "language_info": {
   "codemirror_mode": {
    "name": "ipython",
    "version": 3
   },
   "file_extension": ".py",
   "mimetype": "text/x-python",
   "name": "python",
   "nbconvert_exporter": "python",
   "pygments_lexer": "ipython3",
   "version": "3.8.5"
  }
 },
 "nbformat": 4,
 "nbformat_minor": 4
}
