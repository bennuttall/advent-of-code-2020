{
 "cells": [
  {
   "cell_type": "code",
   "execution_count": 1,
   "metadata": {},
   "outputs": [],
   "source": [
    "card_public_key = 13316116\n",
    "door_public_key = 13651422\n",
    "subject_number = 7\n",
    "divider = 20201227\n",
    "\n",
    "def calc_loop_size(public_key):\n",
    "    loop_size = 1\n",
    "    value = 1\n",
    "    while True:\n",
    "        value = (value * subject_number) % divider\n",
    "        if value == public_key:\n",
    "            return loop_size\n",
    "        loop_size += 1"
   ]
  },
  {
   "cell_type": "code",
   "execution_count": 2,
   "metadata": {},
   "outputs": [],
   "source": [
    "card_loop_size = calc_loop_size(card_public_key)\n",
    "door_loop_size = calc_loop_size(door_public_key)"
   ]
  },
  {
   "cell_type": "code",
   "execution_count": 3,
   "metadata": {},
   "outputs": [],
   "source": [
    "def calc_encryption_key(public_key, loop_size):\n",
    "    value = 1\n",
    "    for i in range(loop_size):\n",
    "        value = (value * public_key) % divider\n",
    "    return value"
   ]
  },
  {
   "cell_type": "code",
   "execution_count": 4,
   "metadata": {},
   "outputs": [
    {
     "name": "stdout",
     "output_type": "stream",
     "text": [
      "Part 1:\n",
      "12929\n"
     ]
    }
   ],
   "source": [
    "card_encryption_key = calc_encryption_key(card_public_key, door_loop_size)\n",
    "door_encryption_key = calc_encryption_key(door_public_key, card_loop_size)\n",
    "assert card_encryption_key == door_encryption_key\n",
    "print(\"Part 1:\")\n",
    "print(card_encryption_key)"
   ]
  },
  {
   "cell_type": "code",
   "execution_count": 5,
   "metadata": {},
   "outputs": [
    {
     "name": "stdout",
     "output_type": "stream",
     "text": [
      "Part 2:\n",
      "**************************************************\n"
     ]
    }
   ],
   "source": [
    "print(\"Part 2:\")\n",
    "print('*' * 50)"
   ]
  }
 ],
 "metadata": {
  "kernelspec": {
   "display_name": "Python 3",
   "language": "python",
   "name": "python3"
  },
  "language_info": {
   "codemirror_mode": {
    "name": "ipython",
    "version": 3
   },
   "file_extension": ".py",
   "mimetype": "text/x-python",
   "name": "python",
   "nbconvert_exporter": "python",
   "pygments_lexer": "ipython3",
   "version": "3.8.5"
  }
 },
 "nbformat": 4,
 "nbformat_minor": 4
}
